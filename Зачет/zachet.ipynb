{
 "cells": [
  {
   "cell_type": "code",
   "execution_count": 1,
   "metadata": {
    "collapsed": true,
    "ExecuteTime": {
     "end_time": "2023-06-15T10:07:23.129187500Z",
     "start_time": "2023-06-15T10:07:21.968680Z"
    }
   },
   "outputs": [],
   "source": [
    "import sklearn\n",
    "import pandas as pd\n",
    "import numpy as  np\n",
    "from sklearn.model_selection import train_test_split\n",
    "from sklearn.decomposition import PCA"
   ]
  },
  {
   "cell_type": "code",
   "execution_count": 2,
   "outputs": [],
   "source": [
    "TRAIN = pd.read_csv(\"MNIST_train.csv\")\n",
    "TEST = pd.read_csv(\"MNIST_test.csv\")"
   ],
   "metadata": {
    "collapsed": false,
    "ExecuteTime": {
     "end_time": "2023-06-15T10:07:27.195362800Z",
     "start_time": "2023-06-15T10:07:23.140771400Z"
    }
   }
  },
  {
   "cell_type": "code",
   "execution_count": 3,
   "outputs": [],
   "source": [
    "TRAIN = TRAIN[TRAIN['label'] <= 1]\n",
    "TEST = TEST[TEST['label'] <= 1]"
   ],
   "metadata": {
    "collapsed": false,
    "ExecuteTime": {
     "end_time": "2023-06-15T10:07:27.341759500Z",
     "start_time": "2023-06-15T10:07:27.198383200Z"
    }
   }
  },
  {
   "cell_type": "code",
   "execution_count": 4,
   "outputs": [],
   "source": [
    "X_train, y_train = TRAIN.drop('label', axis=1), TRAIN['label']\n",
    "X_test, y_test = TEST.drop(['label'], axis=1), TEST['label']"
   ],
   "metadata": {
    "collapsed": false,
    "ExecuteTime": {
     "end_time": "2023-06-15T10:07:27.398422400Z",
     "start_time": "2023-06-15T10:07:27.338761200Z"
    }
   }
  },
  {
   "cell_type": "code",
   "execution_count": 5,
   "outputs": [],
   "source": [
    "pca = PCA(svd_solver='full', n_components=0.9).fit(X_train, y_train)"
   ],
   "metadata": {
    "collapsed": false,
    "ExecuteTime": {
     "end_time": "2023-06-15T10:07:29.323505100Z",
     "start_time": "2023-06-15T10:07:27.403424400Z"
    }
   }
  },
  {
   "cell_type": "code",
   "execution_count": 6,
   "outputs": [
    {
     "data": {
      "text/plain": "49"
     },
     "execution_count": 6,
     "metadata": {},
     "output_type": "execute_result"
    }
   ],
   "source": [
    "pca.n_components_"
   ],
   "metadata": {
    "collapsed": false,
    "ExecuteTime": {
     "end_time": "2023-06-15T10:07:29.387850600Z",
     "start_time": "2023-06-15T10:07:29.338623800Z"
    }
   }
  },
  {
   "cell_type": "code",
   "execution_count": 7,
   "outputs": [
    {
     "data": {
      "text/plain": "array([[1119.66338805,  321.49791034, -402.41141565, ...,  -24.0797986 ,\n         -38.05383548,   59.46186556],\n       [-883.61589229,  907.38629475,  622.50355094, ...,   20.19527769,\n          39.968542  ,   55.25230216],\n       [-798.39309385, -842.90971227, -484.0627968 , ...,   67.37382399,\n         -85.74054309,  -35.46334556],\n       ...,\n       [-726.57401035,  652.36435206,  528.07971075, ...,   25.93418978,\n         -35.35410731,   45.4638998 ],\n       [ 816.3685892 ,  679.5585419 , -625.93484031, ...,  203.80586936,\n         -67.04359399,  -12.75127762],\n       [-821.88725405,  356.09638457,  491.30448403, ...,   17.6422653 ,\n         -37.09038632,  -10.29723134]])"
     },
     "execution_count": 7,
     "metadata": {},
     "output_type": "execute_result"
    }
   ],
   "source": [
    "pca.transform(X_train)"
   ],
   "metadata": {
    "collapsed": false,
    "ExecuteTime": {
     "end_time": "2023-06-15T10:07:29.519730600Z",
     "start_time": "2023-06-15T10:07:29.389848400Z"
    }
   }
  },
  {
   "cell_type": "code",
   "execution_count": 8,
   "outputs": [],
   "source": [
    "from sklearn.ensemble import GradientBoostingClassifier\n",
    "\n",
    "clf = GradientBoostingClassifier(n_estimators=500, learning_rate=0.8, random_state=23, max_depth=2).fit(X_train, y_train)"
   ],
   "metadata": {
    "collapsed": false,
    "ExecuteTime": {
     "end_time": "2023-06-15T10:08:35.990848500Z",
     "start_time": "2023-06-15T10:07:29.523731700Z"
    }
   }
  },
  {
   "cell_type": "code",
   "execution_count": 9,
   "outputs": [
    {
     "data": {
      "text/plain": "0.9990543735224586"
     },
     "execution_count": 9,
     "metadata": {},
     "output_type": "execute_result"
    }
   ],
   "source": [
    "clf.score(X_test, y_test)"
   ],
   "metadata": {
    "collapsed": false,
    "ExecuteTime": {
     "end_time": "2023-06-15T10:08:36.037787100Z",
     "start_time": "2023-06-15T10:08:36.003378700Z"
    }
   }
  },
  {
   "cell_type": "code",
   "execution_count": 10,
   "outputs": [
    {
     "data": {
      "text/plain": "'              precision    recall  f1-score   support\\n\\n           0       1.00      1.00      1.00       980\\n           1       1.00      1.00      1.00      1135\\n\\n    accuracy                           1.00      2115\\n   macro avg       1.00      1.00      1.00      2115\\nweighted avg       1.00      1.00      1.00      2115\\n'"
     },
     "execution_count": 10,
     "metadata": {},
     "output_type": "execute_result"
    }
   ],
   "source": [
    "from sklearn.metrics import classification_report\n",
    "\n",
    "classification_report(y_true=y_test, y_pred=clf.predict(X_test))"
   ],
   "metadata": {
    "collapsed": false,
    "ExecuteTime": {
     "end_time": "2023-06-15T10:08:36.122769800Z",
     "start_time": "2023-06-15T10:08:36.037787100Z"
    }
   }
  },
  {
   "cell_type": "code",
   "execution_count": 11,
   "outputs": [
    {
     "data": {
      "text/plain": "array([[ 978,    2],\n       [   0, 1135]], dtype=int64)"
     },
     "execution_count": 11,
     "metadata": {},
     "output_type": "execute_result"
    }
   ],
   "source": [
    "from sklearn.metrics import confusion_matrix\n",
    "\n",
    "confusion_matrix(y_true=y_test, y_pred=clf.predict(X_test))"
   ],
   "metadata": {
    "collapsed": false,
    "ExecuteTime": {
     "end_time": "2023-06-15T10:08:41.429278700Z",
     "start_time": "2023-06-15T10:08:41.393687700Z"
    }
   }
  },
  {
   "cell_type": "code",
   "execution_count": null,
   "outputs": [],
   "source": [],
   "metadata": {
    "collapsed": false
   }
  }
 ],
 "metadata": {
  "kernelspec": {
   "display_name": "Python 3",
   "language": "python",
   "name": "python3"
  },
  "language_info": {
   "codemirror_mode": {
    "name": "ipython",
    "version": 2
   },
   "file_extension": ".py",
   "mimetype": "text/x-python",
   "name": "python",
   "nbconvert_exporter": "python",
   "pygments_lexer": "ipython2",
   "version": "2.7.6"
  }
 },
 "nbformat": 4,
 "nbformat_minor": 0
}
