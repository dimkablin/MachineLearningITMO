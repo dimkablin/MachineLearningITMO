{
 "nbformat": 4,
 "nbformat_minor": 0,
 "metadata": {
  "colab": {
   "provenance": []
  },
  "kernelspec": {
   "name": "python3",
   "language": "python",
   "display_name": "Python 3 (ipykernel)"
  }
 },
 "cells": [
  {
   "cell_type": "markdown",
   "metadata": {
    "id": "pQu5IYHX8jId"
   },
   "source": [
    "Настройка гиперпараметров модели"
   ]
  },
  {
   "cell_type": "code",
   "metadata": {
    "id": "Qf5Ji2nIHixN",
    "ExecuteTime": {
     "end_time": "2023-06-17T17:03:19.775845900Z",
     "start_time": "2023-06-17T17:03:19.317974400Z"
    }
   },
   "source": [
    "epsilon = 0.1 # Параметр эпсилон при использовании эпсилон жадной стратегии\n",
    "gamma = 0.9 # Коэффциент дисконтирования гамма\n",
    "random_seed = 10 #Random seed\n",
    "time_delay = 1 # Задержка времени при отрисовке процесса игры после обучения (секунды)"
   ],
   "execution_count": 1,
   "outputs": []
  },
  {
   "cell_type": "code",
   "metadata": {
    "id": "nwERyO-d_orM",
    "cellView": "form",
    "ExecuteTime": {
     "end_time": "2023-06-17T17:05:46.618734Z",
     "start_time": "2023-06-17T17:05:44.677846Z"
    }
   },
   "source": [
    "#@title Вывод карты\n",
    "# Установим нужную версию библиотеки gym\n",
    "!git clone https://github.com/dvolchek/gym_0_18_0.git -q\n",
    "%cd /content/gym_0_18_0\n",
    "!pip install -e. -q\n",
    "\n",
    "lr_rate = 0.9 # Параметр альфа, отвечающиий за скорость обучения\n",
    "\n",
    "import gym\n",
    "import numpy as np\n",
    "import time\n",
    "\n",
    "\n",
    "def generate_random_map(size, p, sd):\n",
    "    \"\"\"Generates a random valid map (one that has a path from start to goal)\n",
    "    :param size: size of each side of the grid\n",
    "    :param p: probability that a tile is frozen\n",
    "    \"\"\"\n",
    "    valid = False\n",
    "    np.random.seed(sd)\n",
    "\n",
    "    # DFS to check that it's a valid path.\n",
    "    def is_valid(res):\n",
    "        frontier, discovered = [], set()\n",
    "        frontier.append((0,0))\n",
    "        while frontier:\n",
    "            r, c = frontier.pop()\n",
    "            if not (r,c) in discovered:\n",
    "                discovered.add((r,c))\n",
    "                directions = [(1, 0), (0, 1), (-1, 0), (0, -1)]\n",
    "                for x, y in directions:\n",
    "                    r_new = r + x\n",
    "                    c_new = c + y\n",
    "                    if r_new < 0 or r_new >= size or c_new < 0 or c_new >= size:\n",
    "                        continue\n",
    "                    if res[r_new][c_new] == 'G':\n",
    "                        return True\n",
    "                    if (res[r_new][c_new] not in '#H'):\n",
    "                        frontier.append((r_new, c_new))\n",
    "        return False\n",
    "\n",
    "    while not valid:\n",
    "        p = min(1, p)\n",
    "        res = np.random.choice(['F', 'H'], (size, size), p=[p, 1-p])\n",
    "        res[0][0] = 'S'\n",
    "        res[-1][-1] = 'G'\n",
    "        valid = is_valid(res)\n",
    "    return [\"\".join(x) for x in res]\n",
    "\n",
    "\n",
    "random_map = generate_random_map(size=6, p=0.8, sd = random_seed)\n",
    "maze = random_map\n",
    "env = gym.make(\"FrozenLake-v1\", desc=random_map, is_slippery=False) #is slippery removes possibility to get in incorrect state after an action\n",
    "print(\"Ваша карта\")\n",
    "\n",
    "env.reset()\n",
    "env.render()\n",
    "\n"
   ],
   "execution_count": 6,
   "outputs": [
    {
     "name": "stdout",
     "output_type": "stream",
     "text": [
      "[WinError 3] Системе не удается найти указанный путь: '/content/gym_0_18_0'\n",
      "C:\\Users\\dimka\\PycharmProjects\\MachineLearningITMO\\упражнение 11\n"
     ]
    },
    {
     "name": "stderr",
     "output_type": "stream",
     "text": [
      "fatal: destination path 'gym_0_18_0' already exists and is not an empty directory.\n"
     ]
    },
    {
     "name": "stdout",
     "output_type": "stream",
     "text": [
      "Ваша карта\n"
     ]
    },
    {
     "name": "stderr",
     "output_type": "stream",
     "text": [
      "ERROR: file:///C:/Users/dimka/PycharmProjects/MachineLearningITMO/%D1%83%D0%BF%D1%80%D0%B0%D0%B6%D0%BD%D0%B5%D0%BD%D0%B8%D0%B5%2011 does not appear to be a Python project: neither 'setup.py' nor 'pyproject.toml' found.\n",
      "\n",
      "[notice] A new release of pip available: 22.3.1 -> 23.1.2\n",
      "[notice] To update, run: python.exe -m pip install --upgrade pip\n",
      "C:\\Users\\dimka\\PycharmProjects\\MachineLearningITMO\\venv\\lib\\site-packages\\gym\\envs\\toy_text\\frozen_lake.py:271: UserWarning: \u001B[33mWARN: You are calling render method without specifying any render mode. You can specify the render_mode at initialization, e.g. gym(\"FrozenLake-v1\", render_mode=\"rgb_array\")\u001B[0m\n",
      "  logger.warn(\n"
     ]
    }
   ]
  },
  {
   "cell_type": "code",
   "metadata": {
    "id": "nVSryhgomXjz",
    "cellView": "form",
    "ExecuteTime": {
     "end_time": "2023-06-17T17:06:07.342207300Z",
     "start_time": "2023-06-17T17:06:07.229167Z"
    }
   },
   "source": [
    "#@title Вывод количества побед и номера игры, когда впервые было одержано 5 побед подряд\n",
    "def choose_action(state):\n",
    "    action=0\n",
    "    if np.random.uniform(0, 1) < epsilon:\n",
    "        action = np.random.randint(0,env.action_space.n) #***\n",
    "        #action = env.action_space.sample()\n",
    "    else:\n",
    "        action = np.random.choice(np.array(np.argwhere(Q[state, :] == np.amax(Q[state, :])).flatten().tolist()))\n",
    "    return action\n",
    "\n",
    "def learn(state, state2, reward, action, done):\n",
    "    #Q-learning\n",
    "    if done:\n",
    "      Q[state, action] = Q[state, action] + lr_rate * (reward - Q[state, action])\n",
    "    else:\n",
    "      Q[state, action] = Q[state, action] + lr_rate * (reward + gamma * np.max(Q[state2, :]) - Q[state, action])\n",
    "\n",
    "\n",
    "from tqdm import tqdm\n",
    "# Inititalization\n",
    "wins_arr = [] #delete\n",
    "np.random.seed(random_seed)\n",
    "total_episodes = 10000\n",
    "max_steps = 100\n",
    "Q = np.zeros((env.observation_space.n, env.action_space.n))\n",
    "min_episode = 0 #delete\n",
    "#Main cycle\n",
    "for episode in tqdm(range(total_episodes)):\n",
    "    state = env.reset()\n",
    "    t = 0\n",
    "    while t < max_steps:\n",
    "      #delete\n",
    "        if episode > 5 and wins_arr[episode-5] == 1 and wins_arr[episode-4] == 1 and wins_arr[episode-3] == 1 and wins_arr[episode-2] == 1 and wins_arr[episode-1] == 1 and min_episode ==0:\n",
    "          min_episode = episode\n",
    "        \n",
    "        t += 1\n",
    "\n",
    "        action = choose_action(state)\n",
    "\n",
    "        state2, reward, done, info = env.step(action)\n",
    "\n",
    "        if t == max_steps:\n",
    "          done = True  \n",
    "\n",
    "        learn(state, state2, reward, action, done)\n",
    "\n",
    "        state = state2\n",
    "\n",
    "        if done and reward == 1:\n",
    "          wins_arr.append(1) #record if won\n",
    "          break\n",
    "        if done:\n",
    "          wins_arr.append(0) #record if lost\n",
    "          break\n",
    "\n",
    "#print(\"Таблица ценностей действий\")\n",
    "#print(np.round(Q,2))\n",
    "#Number of wins\n",
    "print('')\n",
    "print(\"Количество побед в серии из 10 000 игр: \", np.sum(wins_arr))\n",
    "#Number of the episode\n",
    "print(\"Пять побед подряд впервые было одержано в игре \",min_episode)"
   ],
   "execution_count": 7,
   "outputs": [
    {
     "name": "stderr",
     "output_type": "stream",
     "text": [
      "  0%|          | 0/10000 [00:00<?, ?it/s]\n"
     ]
    },
    {
     "ename": "IndexError",
     "evalue": "only integers, slices (`:`), ellipsis (`...`), numpy.newaxis (`None`) and integer or boolean arrays are valid indices",
     "output_type": "error",
     "traceback": [
      "\u001B[1;31m---------------------------------------------------------------------------\u001B[0m",
      "\u001B[1;31mIndexError\u001B[0m                                Traceback (most recent call last)",
      "Cell \u001B[1;32mIn[7], line 38\u001B[0m\n\u001B[0;32m     34\u001B[0m   min_episode \u001B[38;5;241m=\u001B[39m episode\n\u001B[0;32m     36\u001B[0m t \u001B[38;5;241m+\u001B[39m\u001B[38;5;241m=\u001B[39m \u001B[38;5;241m1\u001B[39m\n\u001B[1;32m---> 38\u001B[0m action \u001B[38;5;241m=\u001B[39m \u001B[43mchoose_action\u001B[49m\u001B[43m(\u001B[49m\u001B[43mstate\u001B[49m\u001B[43m)\u001B[49m\n\u001B[0;32m     40\u001B[0m state2, reward, done, info \u001B[38;5;241m=\u001B[39m env\u001B[38;5;241m.\u001B[39mstep(action)\n\u001B[0;32m     42\u001B[0m \u001B[38;5;28;01mif\u001B[39;00m t \u001B[38;5;241m==\u001B[39m max_steps:\n",
      "Cell \u001B[1;32mIn[7], line 8\u001B[0m, in \u001B[0;36mchoose_action\u001B[1;34m(state)\u001B[0m\n\u001B[0;32m      5\u001B[0m     action \u001B[38;5;241m=\u001B[39m np\u001B[38;5;241m.\u001B[39mrandom\u001B[38;5;241m.\u001B[39mrandint(\u001B[38;5;241m0\u001B[39m,env\u001B[38;5;241m.\u001B[39maction_space\u001B[38;5;241m.\u001B[39mn) \u001B[38;5;66;03m#***\u001B[39;00m\n\u001B[0;32m      6\u001B[0m     \u001B[38;5;66;03m#action = env.action_space.sample()\u001B[39;00m\n\u001B[0;32m      7\u001B[0m \u001B[38;5;28;01melse\u001B[39;00m:\n\u001B[1;32m----> 8\u001B[0m     action \u001B[38;5;241m=\u001B[39m np\u001B[38;5;241m.\u001B[39mrandom\u001B[38;5;241m.\u001B[39mchoice(np\u001B[38;5;241m.\u001B[39marray(np\u001B[38;5;241m.\u001B[39margwhere(\u001B[43mQ\u001B[49m\u001B[43m[\u001B[49m\u001B[43mstate\u001B[49m\u001B[43m,\u001B[49m\u001B[43m \u001B[49m\u001B[43m:\u001B[49m\u001B[43m]\u001B[49m \u001B[38;5;241m==\u001B[39m np\u001B[38;5;241m.\u001B[39mamax(Q[state, :]))\u001B[38;5;241m.\u001B[39mflatten()\u001B[38;5;241m.\u001B[39mtolist()))\n\u001B[0;32m      9\u001B[0m \u001B[38;5;28;01mreturn\u001B[39;00m action\n",
      "\u001B[1;31mIndexError\u001B[0m: only integers, slices (`:`), ellipsis (`...`), numpy.newaxis (`None`) and integer or boolean arrays are valid indices"
     ]
    }
   ]
  },
  {
   "cell_type": "code",
   "metadata": {
    "id": "hgojmJYxYUoM",
    "cellView": "form"
   },
   "source": [
    "#@title Отдельная игра после обучения\n",
    "#Just 1 game to check if Q-table fits to win\n",
    "from IPython.display import clear_output\n",
    "import time\n",
    "\n",
    "def choose_action_one_game(state):\n",
    "    action = np.random.choice(np.array(np.argwhere(Q[state, :] == np.amax(Q[state, :])).flatten().tolist()))\n",
    "    return action\n",
    "states=[]\n",
    "t = 0\n",
    "state = env.reset()\n",
    "\n",
    "while(t<1000):\n",
    "  env.render()\n",
    "  time.sleep(time_delay)\n",
    "  clear_output(wait=True)\n",
    "  action = choose_action_one_game(state)  \n",
    "  state2, reward, done, info = env.step(action)  \n",
    "  #print(reward)\n",
    "  states.append(state)\n",
    "  state = state2\n",
    "  t += 1\n",
    "  if done and reward == 1:\n",
    "    wn=1\n",
    "  if done:\n",
    "    break\n",
    "if wn == 1:\n",
    "  print(\"!!!Победа!!!\")"
   ],
   "execution_count": null,
   "outputs": []
  },
  {
   "cell_type": "code",
   "metadata": {
    "id": "cWOcJmAMNZPS",
    "cellView": "form"
   },
   "source": [
    "#@title Построение карты маршрута\n",
    "import matplotlib.pyplot as plt\n",
    "\n",
    "def make_maze_pic(maze):\n",
    "  maze_pic=[]\n",
    "  for i in range(len(maze)):\n",
    "    row = []\n",
    "    for j in range(len(maze[i])):\n",
    "      if maze[i][j] == 'S':\n",
    "        row.append(0)\n",
    "      if maze[i][j] == 'F':\n",
    "        row.append(0)\n",
    "      if maze[i][j] == 'H':\n",
    "        row.append(1)\n",
    "      if maze[i][j] == 'G':\n",
    "        row.append(0)\n",
    "    maze_pic.append(row)\n",
    "  maze_pic = np.array(maze_pic)\n",
    "  return maze_pic\n",
    "  \n",
    "\n",
    "#Make maze fit to plot\n",
    "maze_pic = make_maze_pic(maze)\n",
    "nrows, ncols = maze_pic.shape\n",
    "\n",
    "#Arrays of picture elements\n",
    "rw = np.remainder(states,nrows)\n",
    "cl = np.floor_divide(states,nrows)\n",
    "rw = np.append(rw, [nrows-1])\n",
    "cl = np.append(cl,[ncols-1])\n",
    "\n",
    "#Picture plotting\n",
    "fig, ax1 = plt.subplots(1, 1, tight_layout=True)\n",
    "ax1.clear()\n",
    "ax1.set_xticks(np.arange(0.5, nrows, step=1))\n",
    "ax1.set_xticklabels([])\n",
    "ax1.set_yticks(np.arange(0.5, ncols, step=1))\n",
    "ax1.set_yticklabels([])\n",
    "ax1.grid(True)\n",
    "ax1.plot([0],[0], \"gs\", markersize=40)  # start is a big green square\n",
    "ax1.text(0, 0.2,\"Start\", ha=\"center\", va=\"center\", color=\"white\", fontsize=12) #Start text\n",
    "ax1.plot([nrows-1],[ncols-1], \"rs\", markersize=40)  # exit is a big red square\n",
    "ax1.text(nrows-1, ncols-1+0.2,\"Finish\", ha=\"center\", va=\"center\", color=\"white\", fontsize=12) #Exit text\n",
    "ax1.plot(rw,cl, ls = '-', color = 'blue') #Blue lines path\n",
    "ax1.plot(rw,cl, \"bo\")  # Blue dots visited cells\n",
    "ax1.imshow(maze_pic, cmap=\"binary\")\n",
    "\n"
   ],
   "execution_count": null,
   "outputs": []
  }
 ]
}
